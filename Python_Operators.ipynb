{
  "nbformat": 4,
  "nbformat_minor": 0,
  "metadata": {
    "colab": {
      "provenance": [],
      "toc_visible": true,
      "authorship_tag": "ABX9TyN4fVi/5MjjHQy3CAIHEcwH",
      "include_colab_link": true
    },
    "kernelspec": {
      "name": "python3",
      "display_name": "Python 3"
    },
    "language_info": {
      "name": "python"
    }
  },
  "cells": [
    {
      "cell_type": "markdown",
      "metadata": {
        "id": "view-in-github",
        "colab_type": "text"
      },
      "source": [
        "<a href=\"https://colab.research.google.com/github/ZohaibJavaid32/Python-A-Deep-Dive/blob/main/Python_Operators.ipynb\" target=\"_parent\"><img src=\"https://colab.research.google.com/assets/colab-badge.svg\" alt=\"Open In Colab\"/></a>"
      ]
    },
    {
      "cell_type": "markdown",
      "source": [
        "# **Operators in Python**\n",
        "1. Arithmetic Operators\n",
        "2. Logical Operators\n",
        "3. Relational ( Comparison ) Operators\n",
        "4. Bitwise Operators\n",
        "5. Assignment Operators\n",
        "6. Identity Operators\n",
        "7. Membership Operators\n",
        "8. Operators Precedence.\n",
        "\n",
        "🔍 Interactive Learning:\n",
        "Each section includes examples, tasks, and challenges. Execute the code cells and try the exercises yourself!\n",
        "\n",
        "👩‍💻 Next Steps:\n",
        "At the end of this notebook, you'll find a hands-on challenge to test your understanding. So get Ready!"
      ],
      "metadata": {
        "id": "3uWnO5tA_-Si"
      }
    },
    {
      "cell_type": "markdown",
      "source": [
        "# **Arithmetic Operators**\n",
        "\n",
        "Arithmetic operators allow us to peform basic mathematical operations on our variables.\n",
        "\n",
        "| Operator | Description           |\n",
        "|----------|-----------------------|\n",
        "| +        | Addition              |\n",
        "| -        | Subtraction           |\n",
        "| *        | Multiplication        |\n",
        "| /        | Division              |\n",
        "| //       | Floor Division        |\n",
        "| %        | Modulus (Remainder)   |\n",
        "| **       | Exponentiation        |"
      ],
      "metadata": {
        "id": "jOpvFlTJBPmy"
      }
    },
    {
      "cell_type": "code",
      "source": [
        "# Addition Opertor\n",
        "item1_price = 15.99\n",
        "item2_price = 25.50\n",
        "total_price = item1_price + item2_price\n",
        "print(\"Total Price: $\", total_price)"
      ],
      "metadata": {
        "colab": {
          "base_uri": "https://localhost:8080/"
        },
        "id": "k0PnW54yDJ0w",
        "outputId": "2e04be3d-84b3-4f6e-df4c-b7e73b20d58b"
      },
      "execution_count": null,
      "outputs": [
        {
          "output_type": "stream",
          "name": "stdout",
          "text": [
            "Total Price: $ 41.49\n"
          ]
        }
      ]
    },
    {
      "cell_type": "code",
      "source": [
        "#Subtraction Operator\n",
        "account_balance = 1000\n",
        "withdrawal_amount = 250\n",
        "remaining_balance = account_balance - withdrawal_amount\n",
        "print(\"Remaining Balance: $\", remaining_balance)\n"
      ],
      "metadata": {
        "colab": {
          "base_uri": "https://localhost:8080/"
        },
        "id": "DD96vYPSDOlI",
        "outputId": "9250ee6b-0e34-4efb-b7df-631fbdddd1a1"
      },
      "execution_count": null,
      "outputs": [
        {
          "output_type": "stream",
          "name": "stdout",
          "text": [
            "Remaining Balance: $ 750\n"
          ]
        }
      ]
    },
    {
      "cell_type": "code",
      "source": [
        "# Multiplication Operator\n",
        "length = 10\n",
        "width = 5\n",
        "area = length * width\n",
        "print(\"Area of the rectangle: \", area, \"square units\")"
      ],
      "metadata": {
        "colab": {
          "base_uri": "https://localhost:8080/"
        },
        "id": "1rK93XsADZiP",
        "outputId": "63fe3803-f7ab-4f07-e76d-14f232d71487"
      },
      "execution_count": null,
      "outputs": [
        {
          "output_type": "stream",
          "name": "stdout",
          "text": [
            "Area of the rectangle:  50 square units\n"
          ]
        }
      ]
    },
    {
      "cell_type": "code",
      "source": [
        "# Division Operator\n",
        "total_score = 450\n",
        "number_of_subjects = 5\n",
        "average_score = total_score / number_of_subjects\n",
        "print(\"Average Score: \", average_score)\n"
      ],
      "metadata": {
        "colab": {
          "base_uri": "https://localhost:8080/"
        },
        "id": "t-jG7_pIDZfx",
        "outputId": "9c36aee8-b746-4253-dc91-888cae7ee5c9"
      },
      "execution_count": null,
      "outputs": [
        {
          "output_type": "stream",
          "name": "stdout",
          "text": [
            "Average Score:  90.0\n"
          ]
        }
      ]
    },
    {
      "cell_type": "code",
      "source": [
        "# Floor Division\n",
        "total_minutes = 185\n",
        "hours_worked = total_minutes // 60\n",
        "print(\"Full Hours Worked: \", hours_worked)\n"
      ],
      "metadata": {
        "colab": {
          "base_uri": "https://localhost:8080/"
        },
        "id": "hGboROb2DZdJ",
        "outputId": "2fb1d875-b9a6-487b-a072-a7ee1f69e1a5"
      },
      "execution_count": null,
      "outputs": [
        {
          "output_type": "stream",
          "name": "stdout",
          "text": [
            "Full Hours Worked:  3\n"
          ]
        }
      ]
    },
    {
      "cell_type": "code",
      "source": [
        "# Modulus Operator\n",
        "number = 23\n",
        "is_odd = number % 2\n",
        "print(\"Is the number odd? \", is_odd != 0)\n"
      ],
      "metadata": {
        "colab": {
          "base_uri": "https://localhost:8080/"
        },
        "id": "LBb_wXIWEC-J",
        "outputId": "52e0812a-ff4b-4ce8-ccfc-e3e9f2ad3832"
      },
      "execution_count": null,
      "outputs": [
        {
          "output_type": "stream",
          "name": "stdout",
          "text": [
            "Is the number odd?  True\n"
          ]
        }
      ]
    },
    {
      "cell_type": "code",
      "source": [
        "# Exponention Operator\n",
        "initial_bacteria = 100\n",
        "growth_rate = 2  # The population doubles each hour\n",
        "time_in_hours = 24  # 24 hours\n",
        "\n",
        "# Calculate the final population after 24 hours\n",
        "final_population = initial_bacteria * growth_rate ** time_in_hours\n",
        "\n",
        "print(\"Final population after 24 hours: \", final_population)"
      ],
      "metadata": {
        "colab": {
          "base_uri": "https://localhost:8080/"
        },
        "id": "tYemcT6NEC7p",
        "outputId": "f4022b71-616f-45bf-ac14-cb5a977a5648"
      },
      "execution_count": null,
      "outputs": [
        {
          "output_type": "stream",
          "name": "stdout",
          "text": [
            "Final population after 24 hours:  1677721600\n"
          ]
        }
      ]
    },
    {
      "cell_type": "markdown",
      "source": [
        "### **💡 Interactive Task 1**\n",
        "\n",
        "1. You are planning a party. The cost of decorations is 45 dollars, the cost of food is 120 dollars, and the cost of drinks is 55 dollars. How much will the total party expenses be?\n",
        "\n",
        "2. You have 200 dollars in your savings account. You withdraw 75 dollars to buy a new phone. How much money do you have left in your savings account?\n",
        "\n",
        "3. A train travels 60 miles per hour. How far will the train travel in 8 hours?\n",
        "\n",
        "4. A bakery made 120 cookies and packaged them into 6 boxes. How many cookies are there in each box?\n",
        "\n",
        "5. You are running a race and complete 265 meters every 60 seconds. How many full minutes will it take you to run 5000 meters?\n",
        "\n",
        "6. You are trying to divide 37 apples evenly into baskets, with each basket holding 6 apples. How many apples will be left over after filling the baskets?\n",
        "7. You invest 500 dollars in a bank account with an annual interest rate of 5%.\n",
        " How much will your investment grow to after 3 years, if the interest is compounded annually?"
      ],
      "metadata": {
        "id": "4v6l-r6IFvdi"
      }
    },
    {
      "cell_type": "code",
      "source": [],
      "metadata": {
        "id": "tZuujW9LHvOL"
      },
      "execution_count": null,
      "outputs": []
    },
    {
      "cell_type": "code",
      "source": [],
      "metadata": {
        "id": "GLeDpBOjHwFK"
      },
      "execution_count": null,
      "outputs": []
    },
    {
      "cell_type": "code",
      "source": [],
      "metadata": {
        "id": "KprV8nn-Hv_U"
      },
      "execution_count": null,
      "outputs": []
    },
    {
      "cell_type": "code",
      "source": [],
      "metadata": {
        "id": "XNEyb3JwHv4q"
      },
      "execution_count": null,
      "outputs": []
    },
    {
      "cell_type": "code",
      "source": [],
      "metadata": {
        "id": "nKSAiYPtHvrS"
      },
      "execution_count": null,
      "outputs": []
    },
    {
      "cell_type": "code",
      "source": [],
      "metadata": {
        "id": "RP-ZSaLJHvg0"
      },
      "execution_count": null,
      "outputs": []
    },
    {
      "cell_type": "code",
      "source": [],
      "metadata": {
        "id": "ptrNz84YHvSS"
      },
      "execution_count": null,
      "outputs": []
    },
    {
      "cell_type": "markdown",
      "source": [
        "# **Logical Operators**\n",
        "\n",
        "| Operator | Description                           |\n",
        "|----------|---------------------------------------|\n",
        "| and      | True if all conditions are True       |\n",
        "| or       | True if at least one condition is True|\n",
        "| not      | Reverses the condition (True becomes False) |\n"
      ],
      "metadata": {
        "id": "iraKOHk4HyUG"
      }
    },
    {
      "cell_type": "code",
      "source": [
        "# AND Operator\n",
        "\n",
        "credit_score = 750\n",
        "income = 35000\n",
        "\n",
        "# Check if both conditions are true\n",
        "eligible_for_loan = (credit_score > 700) and (income > 30000)\n",
        "\n",
        "print(\"Eligible for loan:\", eligible_for_loan)\n"
      ],
      "metadata": {
        "colab": {
          "base_uri": "https://localhost:8080/"
        },
        "id": "J-AdoUmdJBqC",
        "outputId": "7c267c68-25c9-4c5c-844d-2caefa3d7e8e"
      },
      "execution_count": null,
      "outputs": [
        {
          "output_type": "stream",
          "name": "stdout",
          "text": [
            "Eligible for loan: True\n"
          ]
        }
      ]
    },
    {
      "cell_type": "code",
      "source": [
        "# OR Operator\n",
        "\n",
        "has_membership = False\n",
        "has_guest_pass = True\n",
        "\n",
        "# Check if at least one condition is true\n",
        "can_access_gym = has_membership or has_guest_pass\n",
        "\n",
        "print(\"Can access gym:\", can_access_gym)\n"
      ],
      "metadata": {
        "colab": {
          "base_uri": "https://localhost:8080/"
        },
        "id": "39FMcInfJBmj",
        "outputId": "959aa494-8b48-4540-b73e-568b5d59a446"
      },
      "execution_count": null,
      "outputs": [
        {
          "output_type": "stream",
          "name": "stdout",
          "text": [
            "Can access gym: True\n"
          ]
        }
      ]
    },
    {
      "cell_type": "code",
      "source": [
        "# NOT Operator\n",
        "\n",
        "age = 16\n",
        "\n",
        "# Check if the person is not eligible to vote\n",
        "not_eligible_to_vote = not (age >= 18)\n",
        "\n",
        "print(\"Not eligible to vote:\", not_eligible_to_vote)\n"
      ],
      "metadata": {
        "colab": {
          "base_uri": "https://localhost:8080/"
        },
        "id": "mGSwN2IAJBHa",
        "outputId": "79f4c652-d200-4581-d40d-0607708e7cbf"
      },
      "execution_count": null,
      "outputs": [
        {
          "output_type": "stream",
          "name": "stdout",
          "text": [
            "Not eligible to vote: True\n"
          ]
        }
      ]
    },
    {
      "cell_type": "markdown",
      "source": [
        "### 💡**Interactive Task 2**\n",
        "\n",
        "1. You need both an umbrella and a raincoat to go outside on a rainy day.\n",
        "\n",
        "   Do you have an umbrella? (Yes/No)\n",
        "\n",
        "   Do you have a raincoat? (Yes/No)\n",
        "\n",
        "   If you have both the umbrella and the raincoat, are you ready to go outside?\n",
        "\n",
        "\n",
        "2. You can either have tea or coffee in the morning.\n",
        "\n",
        "   Do you like tea? (Yes/No)\n",
        "\n",
        "   Do you like coffee? (Yes/No)\n",
        "\n",
        "   If you like either tea or coffee, can you have a drink in the morning?\n",
        "\n",
        "3. A person can enter a movie theater only if they have a ticket.\n",
        "\n",
        "   Do you have a ticket? (Yes/No)\n",
        "\n",
        "   Using the not operator, if you do not have a ticket, will you be allowed to enter the theater?\n"
      ],
      "metadata": {
        "id": "iQTxY96NJ2Om"
      }
    },
    {
      "cell_type": "code",
      "source": [],
      "metadata": {
        "id": "O6cOniYYMaap"
      },
      "execution_count": null,
      "outputs": []
    },
    {
      "cell_type": "code",
      "source": [],
      "metadata": {
        "id": "JCOXZQftMbMy"
      },
      "execution_count": null,
      "outputs": []
    },
    {
      "cell_type": "code",
      "source": [],
      "metadata": {
        "id": "_MeTLG2yMbGZ"
      },
      "execution_count": null,
      "outputs": []
    },
    {
      "cell_type": "markdown",
      "source": [
        "# **Relational ( Comparison ) Operators**\n",
        "\n",
        "| Operator | Description                        |\n",
        "|----------|------------------------------------|\n",
        "| ==       | Equal                              |\n",
        "| !=       | Not Equal                          |\n",
        "| >        | Greater Than                       |\n",
        "| <        | Less Than                          |\n",
        "| >=       | Greater Than or Equal To           |\n",
        "| <=       | Less Than or Equal To              |"
      ],
      "metadata": {
        "id": "Qb1BMCYpM8xs"
      }
    },
    {
      "cell_type": "code",
      "source": [
        "# Equal\n",
        "\n",
        "age1 = 25\n",
        "age2 = 25\n",
        "are_ages_equal = age1 == age2\n",
        "print(\"Are the two people of the same age?\", are_ages_equal)\n"
      ],
      "metadata": {
        "id": "AmRi8wQqN_W0"
      },
      "execution_count": null,
      "outputs": []
    },
    {
      "cell_type": "code",
      "source": [
        "# Not Equal\n",
        "\n",
        "price1 = 50\n",
        "price2 = 60\n",
        "prices_are_different = price1 != price2\n",
        "print(\"Are the two products priced differently?\", prices_are_different)\n"
      ],
      "metadata": {
        "colab": {
          "base_uri": "https://localhost:8080/"
        },
        "id": "KMt4-ayWN_U0",
        "outputId": "b84d8d18-e161-4b1a-8a9e-f405ba4007fb"
      },
      "execution_count": null,
      "outputs": [
        {
          "output_type": "stream",
          "name": "stdout",
          "text": [
            "Are the two products priced differently? True\n"
          ]
        }
      ]
    },
    {
      "cell_type": "code",
      "source": [
        "# Greater Than\n",
        "\n",
        "age = 30\n",
        "minimum_age = 18\n",
        "is_older = age > minimum_age\n",
        "print(\"Is the person older than the minimum age?\", is_older)\n",
        "\n"
      ],
      "metadata": {
        "colab": {
          "base_uri": "https://localhost:8080/"
        },
        "id": "JxvjXdHkN_SE",
        "outputId": "f854e2d8-dd02-4d84-b507-7e5d4b185623"
      },
      "execution_count": null,
      "outputs": [
        {
          "output_type": "stream",
          "name": "stdout",
          "text": [
            "Is the person older than the minimum age? True\n"
          ]
        }
      ]
    },
    {
      "cell_type": "code",
      "source": [
        "# Less Than\n",
        "\n",
        "stock = 5\n",
        "restock_threshold = 10\n",
        "needs_restocking = stock < restock_threshold\n",
        "print(\"Does the product need restocking?\", needs_restocking)\n"
      ],
      "metadata": {
        "colab": {
          "base_uri": "https://localhost:8080/"
        },
        "id": "yzK-bt3JN_PM",
        "outputId": "6ce81cd2-d3f3-4032-d9cc-c79168866cb8"
      },
      "execution_count": null,
      "outputs": [
        {
          "output_type": "stream",
          "name": "stdout",
          "text": [
            "Does the product need restocking? True\n"
          ]
        }
      ]
    },
    {
      "cell_type": "code",
      "source": [
        "# Greater Than or Equal To\n",
        "\n",
        "score = 75\n",
        "passing_score = 50\n",
        "has_passed = score >= passing_score\n",
        "print(\"Has the student passed the exam?\", has_passed)\n"
      ],
      "metadata": {
        "colab": {
          "base_uri": "https://localhost:8080/"
        },
        "id": "YiiHWTjcN_Mb",
        "outputId": "3bdcd378-9acd-4597-acc2-aafae9aa9b17"
      },
      "execution_count": null,
      "outputs": [
        {
          "output_type": "stream",
          "name": "stdout",
          "text": [
            "Has the student passed the exam? True\n"
          ]
        }
      ]
    },
    {
      "cell_type": "code",
      "source": [
        "# Less Than or Equal To\n",
        "\n",
        "age = 10\n",
        "age_limit = 12\n",
        "is_child_ticket = age <= age_limit\n",
        "print(\"Does the person qualify for a child ticket?\", is_child_ticket)\n"
      ],
      "metadata": {
        "colab": {
          "base_uri": "https://localhost:8080/"
        },
        "id": "mDkYZq09N_IL",
        "outputId": "8f0bbd35-8e7b-431d-ef93-fe62ca1ae1cb"
      },
      "execution_count": null,
      "outputs": [
        {
          "output_type": "stream",
          "name": "stdout",
          "text": [
            "Does the person qualify for a child ticket? True\n"
          ]
        }
      ]
    },
    {
      "cell_type": "markdown",
      "source": [
        "### 💡**Interactive Task 3**\n",
        "\n",
        "1. You are checking if two people have the same score in a game. How would you compare their scores to see if they are equal?\n",
        "2. You are verifying if a user's input does not match a predefined password. How would you check if the entered password is not equal to the correct password?\n",
        "3. A store offers discounts to customers who spend more than $100. How would you check if a customer’s total purchase amount qualifies for a discount?\n",
        "4. You are working on a mobile app that limits a user's age to under 18 to access certain features. How would you check if a user’s age is less than 18?\n",
        "5. A fitness tracker gives a badge to users who walk 10,000 steps or more in a day. How would you check if a user’s step count qualifies for the badge?\n",
        "6. A movie theater offers discounted tickets for children under the age of 12. How would you check if a child’s age qualifies for the discount?\n"
      ],
      "metadata": {
        "id": "FnrUOuYrPdVw"
      }
    },
    {
      "cell_type": "code",
      "source": [],
      "metadata": {
        "id": "mDRKpk1txU3z"
      },
      "execution_count": null,
      "outputs": []
    },
    {
      "cell_type": "code",
      "source": [],
      "metadata": {
        "id": "OMG3PwgYxUwi"
      },
      "execution_count": null,
      "outputs": []
    },
    {
      "cell_type": "code",
      "source": [],
      "metadata": {
        "id": "U1sshP_axUoq"
      },
      "execution_count": null,
      "outputs": []
    },
    {
      "cell_type": "code",
      "source": [],
      "metadata": {
        "id": "6XsOiPR3xUjK"
      },
      "execution_count": null,
      "outputs": []
    },
    {
      "cell_type": "code",
      "source": [],
      "metadata": {
        "id": "n0_MsIkdxUb6"
      },
      "execution_count": null,
      "outputs": []
    },
    {
      "cell_type": "code",
      "source": [],
      "metadata": {
        "id": "qRtpBGGgxULr"
      },
      "execution_count": null,
      "outputs": []
    },
    {
      "cell_type": "markdown",
      "source": [
        "# **Bitwise Operators**\n",
        "\n",
        "| Operator     | Symbol | Description                                                  |\n",
        "|--------------|--------|--------------------------------------------------------------|\n",
        "| **AND**      | `&`    | Sets each bit to 1 if both bits are 1.                       |\n",
        "| **OR**       | `` ` ``  | Sets each bit to 1 if at least one of the bits is 1.        |\n",
        "| **XOR**      | `^`    | Sets each bit to 1 if only one of the two bits is 1.         |\n",
        "| **NOT**      | `~`    | Inverts all the bits.                                        |\n",
        "| **Left Shift**| `<<`   | Shifts bits to the left, filling zeros from the right. Equivalent to multiplying by 2 for each shift. |\n",
        "| **Right Shift**| `>>`  | Shifts bits to the right, discarding bits from the right. Equivalent to dividing by 2 for each shift. |\n",
        "\n",
        "\n",
        "NOTE : `bin()` is used to convert integer to binary form."
      ],
      "metadata": {
        "id": "rQAy2B7bydNX"
      }
    },
    {
      "cell_type": "code",
      "source": [
        "# AND Operator\n",
        "a = 0b1101  # 13 in decimal\n",
        "b = 0b1011  # 11 in decimal\n",
        "\n",
        "result = a & b\n",
        "print(bin(result))  # Output: 0b1001 (9 in decimal)\n"
      ],
      "metadata": {
        "colab": {
          "base_uri": "https://localhost:8080/"
        },
        "id": "r-vePoCjy1d_",
        "outputId": "5fe1fed9-fa02-49e9-c5f4-e6142c89a914"
      },
      "execution_count": null,
      "outputs": [
        {
          "output_type": "stream",
          "name": "stdout",
          "text": [
            "0b1001\n"
          ]
        }
      ]
    },
    {
      "cell_type": "code",
      "source": [
        "# Or Operator\n",
        "a = 0b1101  # 13 in decimal\n",
        "b = 0b1011  # 11 in decimal\n",
        "\n",
        "result = a | b\n",
        "print(bin(result))  # Output: 0b1111 (15 in decimal)\n"
      ],
      "metadata": {
        "colab": {
          "base_uri": "https://localhost:8080/"
        },
        "id": "xa1YT_iFy1YZ",
        "outputId": "7d064d04-4209-4121-fea9-afc256bf24fa"
      },
      "execution_count": null,
      "outputs": [
        {
          "output_type": "stream",
          "name": "stdout",
          "text": [
            "0b1111\n"
          ]
        }
      ]
    },
    {
      "cell_type": "code",
      "source": [
        "# XOR Operator\n",
        "a = 0b1101  # 13 in decimal\n",
        "b = 0b1011  # 11 in decimal\n",
        "\n",
        "result = a ^ b\n",
        "print(bin(result))  # Output: 0b0110 (6 in decimal)\n"
      ],
      "metadata": {
        "colab": {
          "base_uri": "https://localhost:8080/"
        },
        "id": "RmJmQETsy1TD",
        "outputId": "3d89047d-1cae-4cdc-ddb1-e7afdcc6fb5e"
      },
      "execution_count": null,
      "outputs": [
        {
          "output_type": "stream",
          "name": "stdout",
          "text": [
            "0b110\n"
          ]
        }
      ]
    },
    {
      "cell_type": "code",
      "source": [
        "# NOT Operator\n",
        "\n",
        "a = 0b1101  # 13 in decimal\n",
        "\n",
        "result = ~a\n",
        "print(bin(result))  # Output: -0b1110 (Negative value)\n"
      ],
      "metadata": {
        "colab": {
          "base_uri": "https://localhost:8080/"
        },
        "id": "GZtkNlzay1NH",
        "outputId": "2d91ed46-420f-4b68-86de-cb9df794c199"
      },
      "execution_count": null,
      "outputs": [
        {
          "output_type": "stream",
          "name": "stdout",
          "text": [
            "-0b1110\n"
          ]
        }
      ]
    },
    {
      "cell_type": "code",
      "source": [
        "# Left Shift Operator\n",
        "\n",
        "a = 0b0011  # 3 in decimal\n",
        "\n",
        "result = a << 2  # Shift left by 2 bits\n",
        "print(bin(result))  # Output: 0b1100 (12 in decimal)\n"
      ],
      "metadata": {
        "colab": {
          "base_uri": "https://localhost:8080/"
        },
        "id": "D0PIuToCy1FR",
        "outputId": "d95f531f-6152-49d0-e726-e06d3ba115fa"
      },
      "execution_count": null,
      "outputs": [
        {
          "output_type": "stream",
          "name": "stdout",
          "text": [
            "0b1100\n"
          ]
        }
      ]
    },
    {
      "cell_type": "code",
      "source": [
        "# Right Shift Operator\n",
        "\n",
        "a = 0b1100  # 12 in decimal\n",
        "\n",
        "result = a >> 2  # Shift right by 2 bits\n",
        "print(bin(result))  # Output: 0b0011 (3 in decimal)\n"
      ],
      "metadata": {
        "colab": {
          "base_uri": "https://localhost:8080/"
        },
        "id": "XkL_8AlJy09p",
        "outputId": "0b941bb8-ce9b-41c5-e1cd-48465e59a009"
      },
      "execution_count": null,
      "outputs": [
        {
          "output_type": "stream",
          "name": "stdout",
          "text": [
            "0b11\n"
          ]
        }
      ]
    },
    {
      "cell_type": "markdown",
      "source": [
        "# **Assignment Operators**\n",
        "\n",
        "# Assignment and Arithmetic Operators in Python\n",
        "\n",
        "| **Operator** | **Description**                                               |\n",
        "|--------------|---------------------------------------------------------------|\n",
        "| `=`          | Assigns a value to a variable.                                |\n",
        "| `+=`         | Add and assign: `x += 3` is equivalent to `x = x + 3`.        |\n",
        "| `-=`         | Subtract and assign: `x -= 3` is equivalent to `x = x - 3`.   |\n",
        "| `*=`         | Multiply and assign: `x *= 3` is equivalent to `x = x * 3`.   |\n",
        "| `/=`         | Divide and assign: `x /= 3` is equivalent to `x = x / 3`.     |\n",
        "| `%=`         | Modulus and assign: `x %= 3` is equivalent to `x = x % 3`.    |\n",
        "\n"
      ],
      "metadata": {
        "id": "Ackiz38Y5GzO"
      }
    },
    {
      "cell_type": "code",
      "source": [
        "age = 25\n",
        "print(f\"Age: {age}\")"
      ],
      "metadata": {
        "colab": {
          "base_uri": "https://localhost:8080/"
        },
        "id": "9d__wOwC5S5n",
        "outputId": "91de3114-a14d-4488-e6be-73b4ae10add7"
      },
      "execution_count": null,
      "outputs": [
        {
          "output_type": "stream",
          "name": "stdout",
          "text": [
            "Age: 25\n"
          ]
        }
      ]
    },
    {
      "cell_type": "code",
      "source": [
        "balance = 5000\n",
        "deposit = 200\n",
        "balance += deposit\n",
        "print(f\"Updated balance: {balance}\")\n"
      ],
      "metadata": {
        "colab": {
          "base_uri": "https://localhost:8080/"
        },
        "id": "5PFtaYHJ5TbP",
        "outputId": "dda61a1d-0dff-45ea-d3b9-dd1b38cce5d3"
      },
      "execution_count": null,
      "outputs": [
        {
          "output_type": "stream",
          "name": "stdout",
          "text": [
            "Updated balance: 5200\n"
          ]
        }
      ]
    },
    {
      "cell_type": "code",
      "source": [
        "budget = 1500\n",
        "expenses = 300\n",
        "budget -= expenses\n",
        "print(f\"Remaining budget: {budget}\")\n"
      ],
      "metadata": {
        "colab": {
          "base_uri": "https://localhost:8080/"
        },
        "id": "WgKC6rsX5TV5",
        "outputId": "7c5bcd7b-7e3d-4d16-c000-b563518d5aa3"
      },
      "execution_count": null,
      "outputs": [
        {
          "output_type": "stream",
          "name": "stdout",
          "text": [
            "Remaining budget: 1200\n"
          ]
        }
      ]
    },
    {
      "cell_type": "code",
      "source": [
        "price = 100\n",
        "discount = 0.2\n",
        "price *= (1 - discount)\n",
        "print(f\"Price after discount: {price}\")\n"
      ],
      "metadata": {
        "id": "VkzOnqTH5TPI"
      },
      "execution_count": null,
      "outputs": []
    },
    {
      "cell_type": "code",
      "source": [
        "total_bill = 120\n",
        "num_friends = 4\n",
        "total_bill /= num_friends\n",
        "print(f\"Each friend pays: {total_bill}\")\n"
      ],
      "metadata": {
        "colab": {
          "base_uri": "https://localhost:8080/"
        },
        "id": "CJPzbP445THZ",
        "outputId": "bbfd1263-84a5-4e6d-a1cb-f706b0f2e2f5"
      },
      "execution_count": null,
      "outputs": [
        {
          "output_type": "stream",
          "name": "stdout",
          "text": [
            "Each friend pays: 30.0\n"
          ]
        }
      ]
    },
    {
      "cell_type": "code",
      "source": [
        "wallet = 50\n",
        "item_price = 17\n",
        "wallet %= item_price\n",
        "print(f\"Money left after purchase: {wallet}\")\n"
      ],
      "metadata": {
        "colab": {
          "base_uri": "https://localhost:8080/"
        },
        "id": "BtwjQReU5S-y",
        "outputId": "9b3b6acc-164c-467c-bda6-b74feee13819"
      },
      "execution_count": null,
      "outputs": [
        {
          "output_type": "stream",
          "name": "stdout",
          "text": [
            "Money left after purchase: 16\n"
          ]
        }
      ]
    },
    {
      "cell_type": "markdown",
      "source": [
        "### Interactive Task 4\n",
        "1. You are managing an online store. Write a Python program that tracks the total sales of the store, starting with a value of 0. Each time a customer makes a purchase, the amount is added to the total sales. Use the += operator to update the total sales after each purchase.\n",
        "2. You are keeping track of the number of seats available in a theater. Initially, the theater has 100 seats. After a few reservations, the number of available seats decreases. Write a program that subtracts the reserved seats from the total number of available seats using the -= operator.\n",
        "\n",
        "3. You are given a points variable representing the score of a game. At each level, the score increases by a factor of 1.5. Implement a function update_score that multiplies the current score by 1.5 at the end of each level. Return the updated score.\n",
        "\n",
        "4. A company has a total budget of $120,000 to distribute among 4 departments equally. After each department receives its share, you need to update the remaining budget. Using the /= operator, calculate how much each department will get if the budget is divided, and then find the remaining budget after each distribution (divide by 4 for the total number of departments).\n",
        "\n",
        "5. You are managing a set of items that should be grouped into packages of 7. If you start with 23 items, use the %= operator to find out how many items remain after grouping them into as many full packages as possible. How many items are left after grouping?\n"
      ],
      "metadata": {
        "id": "TPpky8s_6yhl"
      }
    },
    {
      "cell_type": "code",
      "source": [],
      "metadata": {
        "id": "ud261aRgWX7X"
      },
      "execution_count": null,
      "outputs": []
    },
    {
      "cell_type": "code",
      "source": [],
      "metadata": {
        "id": "WFrHe44QWY7n"
      },
      "execution_count": null,
      "outputs": []
    },
    {
      "cell_type": "code",
      "source": [],
      "metadata": {
        "id": "aFdYoU_wWY03"
      },
      "execution_count": null,
      "outputs": []
    },
    {
      "cell_type": "code",
      "source": [],
      "metadata": {
        "id": "vbC9T1vyWYto"
      },
      "execution_count": null,
      "outputs": []
    },
    {
      "cell_type": "code",
      "source": [],
      "metadata": {
        "id": "CNYu-u8lWYly"
      },
      "execution_count": null,
      "outputs": []
    },
    {
      "cell_type": "markdown",
      "source": [
        "# **Identity Operators**\n",
        "\n",
        "| Operator | Description                                        |\n",
        "|----------|----------------------------------------------------|\n",
        "| `is`     | Checks if two variables refer to the same object in memory |\n",
        "| `is not` | Checks if two variables do not refer to the same object in memory |\n",
        "\n"
      ],
      "metadata": {
        "id": "PstNKOnOWa8I"
      }
    },
    {
      "cell_type": "code",
      "source": [
        "user_input = None  # The user hasn't entered anything yet\n",
        "\n",
        "# Check if the variable is None\n",
        "if user_input is None:\n",
        "    print(\"No input provided. Using default values.\")\n",
        "else:\n",
        "    print(f\"User input: {user_input}\")\n"
      ],
      "metadata": {
        "colab": {
          "base_uri": "https://localhost:8080/"
        },
        "id": "mAE3KPHaXRf7",
        "outputId": "4cd162e0-5ff9-4bf6-e3e6-a2b2babfbda9"
      },
      "execution_count": null,
      "outputs": [
        {
          "output_type": "stream",
          "name": "stdout",
          "text": [
            "No input provided. Using default values.\n"
          ]
        }
      ]
    },
    {
      "cell_type": "code",
      "source": [
        "cache_result = None\n",
        "expensive_computation_result = 42  # Some expensive computation result\n",
        "\n",
        "# If the result is not already in the cache, compute it\n",
        "if cache_result is not expensive_computation_result:\n",
        "    print(\"Cache miss: Recomputing result...\")\n",
        "    cache_result = expensive_computation_result\n",
        "else:\n",
        "    print(\"Cache hit: Using cached result.\")\n",
        "\n",
        "print(f\"Result: {cache_result}\")\n"
      ],
      "metadata": {
        "colab": {
          "base_uri": "https://localhost:8080/"
        },
        "id": "-AD9hN4RXTfd",
        "outputId": "0234d609-b0f1-42cf-8b9c-72d4b303af37"
      },
      "execution_count": null,
      "outputs": [
        {
          "output_type": "stream",
          "name": "stdout",
          "text": [
            "Cache miss: Recomputing result...\n",
            "Result: 42\n"
          ]
        }
      ]
    },
    {
      "cell_type": "markdown",
      "source": [
        "### Interactive Task 5\n",
        "1. You are given two variables that may or may not refer to the same object. Write a code snippet that checks if both variables refer to the same object in memory using the is operator. If they do, print \"Both variables are the same object\"; otherwise, print \"They are different objects.\"\n",
        "\n",
        "2. Your application stores the authentication state of users in a variable. When a user logs out, the authentication state is set to None. Write code that checks if the user's authentication state is still active (i.e., it is not None). If it is not None, print \"User is authenticated\"; otherwise, print \"User is not authenticated.\""
      ],
      "metadata": {
        "id": "8YEdCaJyYSFg"
      }
    },
    {
      "cell_type": "code",
      "source": [
        "# Challenge 1\n",
        "a = [1, 2, 3]\n",
        "b = a\n",
        "\n",
        "# Write code."
      ],
      "metadata": {
        "id": "R_zTPB3hYcH0"
      },
      "execution_count": null,
      "outputs": []
    },
    {
      "cell_type": "code",
      "source": [
        "# Cahallenge 2\n",
        "\n",
        "auth_state = \"user_authenticated\"\n",
        "\n",
        "# Write code.\n"
      ],
      "metadata": {
        "id": "eocXLJCNYh2V"
      },
      "execution_count": null,
      "outputs": []
    },
    {
      "cell_type": "markdown",
      "source": [
        "# **Membership Operators**\n",
        "\n",
        "| **Operator** | **Description**                                                    | **Example**               | **Result** |\n",
        "|--------------|--------------------------------------------------------------------|---------------------------|------------|\n",
        "| `in`         | Evaluates to `True` if the specified value exists in the sequence. | `'a' in 'apple'`          | `True`     |\n",
        "| `not in`     | Evaluates to `True` if the specified value does not exist in the sequence. | `'x' not in 'apple'`      | `True`     |"
      ],
      "metadata": {
        "id": "AhLYoqXvcp0p"
      }
    },
    {
      "cell_type": "code",
      "source": [
        "# Example: Checking user role\n",
        "allowed_roles = ['admin', 'editor', 'moderator']\n",
        "user_role = 'editor'\n",
        "\n",
        "if user_role in allowed_roles:\n",
        "    print(\"Access granted!\")\n",
        "else:\n",
        "    print(\"Access denied.\")\n"
      ],
      "metadata": {
        "id": "nWv4JuUcdVw7"
      },
      "execution_count": null,
      "outputs": []
    },
    {
      "cell_type": "code",
      "source": [
        "# Example: Filtering banned words in a comment\n",
        "banned_words = ['spam', 'ad', 'fake']\n",
        "user_comment = \"This is a great product, not a fake one!\"\n",
        "\n",
        "if any(banned_word in user_comment for banned_word in banned_words):\n",
        "    print(\"Comment contains inappropriate content.\")\n",
        "else:\n",
        "    print(\"Comment is approved.\")\n"
      ],
      "metadata": {
        "id": "QLAPy4CudWhD"
      },
      "execution_count": null,
      "outputs": []
    },
    {
      "cell_type": "markdown",
      "source": [
        "### Interactive Task 6\n",
        "\n",
        "1. You're checking if an item is available in a grocery store's inventory before adding it to your cart.\n",
        "\n",
        "   Question:\n",
        "Check if \"milk\" is in the inventory list.\n",
        "\n",
        "2. You're managing a guest list for a private event. A new person wants to enter, but you need to check if their name is not on the banned list.\n",
        "\n",
        "   Question:\n",
        "Check if \"John Doe\" is allowed to enter by verifying they are not on the banned guest list."
      ],
      "metadata": {
        "id": "OceFKkQ-d1gv"
      }
    },
    {
      "cell_type": "code",
      "source": [
        "inventory = [\"bread\", \"milk\", \"eggs\", \"butter\"]\n",
        "\n",
        "# Write code."
      ],
      "metadata": {
        "id": "8-s-I_7VeQ8G"
      },
      "execution_count": null,
      "outputs": []
    },
    {
      "cell_type": "code",
      "source": [
        "banned_guests = [\"Alice Smith\", \"Bob Johnson\", \"Eve Adams\"]\n",
        "guest_name = \"John Doe\"\n",
        "\n",
        "# Write code."
      ],
      "metadata": {
        "id": "oevFmjieeRZF"
      },
      "execution_count": null,
      "outputs": []
    },
    {
      "cell_type": "markdown",
      "source": [
        "# **Operator Precedence**\n",
        "\n",
        "Operator precedence determines the order in which operations are evaluated.\n",
        "Use parentheses () to override precedence.\n",
        "\n",
        "Precedence Order:\n",
        "\n",
        "**Parentheses:** ()\n",
        "\n",
        "**Exponentiation:** **\n",
        "\n",
        "**Multiplication/Division:** *, /, //, %\n",
        "\n",
        "**Addition/Subtraction:** +, -\n",
        "\n",
        "**Comparison:** ==, !=, <, >, <=, >=\n",
        "\n",
        "**Logical:** and, or, not\n"
      ],
      "metadata": {
        "id": "3rmt2HbHeffp"
      }
    },
    {
      "cell_type": "code",
      "source": [
        "# Multiplication (*) is evaluated before addition (+)\n",
        "print(100 + 5 * 3)  # Output: 115\n",
        "\n",
        "# 5 * 3 = 15, then 100 + 15 = 115"
      ],
      "metadata": {
        "id": "56-CnM3_hpFC"
      },
      "execution_count": null,
      "outputs": []
    },
    {
      "cell_type": "code",
      "source": [
        "# Division (/) is evaluated before addition (+)\n",
        "print(50 + 10 / 2)  # Output: 55.0\n",
        "\n",
        "\n",
        "# 10 / 2 = 5.0, then 50 + 5.0 = 55.0\n"
      ],
      "metadata": {
        "id": "zh69X057hpVN"
      },
      "execution_count": null,
      "outputs": []
    },
    {
      "cell_type": "code",
      "source": [
        "# Exponentiation (**) is evaluated before multiplication (*)\n",
        "print(2 * 3 ** 2)  # Output: 18\n",
        "\n",
        "\n",
        "# 3 ** 2 = 9, then 2 * 9 = 18\n"
      ],
      "metadata": {
        "id": "BmFw2Rj7hpSH"
      },
      "execution_count": null,
      "outputs": []
    },
    {
      "cell_type": "code",
      "source": [
        "# Parentheses force addition (+) before multiplication (*)\n",
        "print((2 + 3) * 4)  # Output: 20\n",
        "\n",
        "\n",
        "# (2 + 3) = 5, then 5 * 4 = 20\n"
      ],
      "metadata": {
        "id": "lPP0nyHphpPO"
      },
      "execution_count": null,
      "outputs": []
    },
    {
      "cell_type": "code",
      "source": [
        "# Parentheses force addition (+) before multiplication (*)\n",
        "print((2 + 3) * 4)  # Output: 20\n",
        "\n",
        "\n",
        "# (2 + 3) = 5, then 5 * 4 = 20\n"
      ],
      "metadata": {
        "id": "UCskKHaehpM5"
      },
      "execution_count": null,
      "outputs": []
    },
    {
      "cell_type": "code",
      "source": [
        "# Unary negation (-) is applied before multiplication (*)\n",
        "print(-5 * 4)  # Output: -20\n",
        "# -5 * 4 = -20\n"
      ],
      "metadata": {
        "id": "8Et2EgaVhpJT"
      },
      "execution_count": null,
      "outputs": []
    },
    {
      "cell_type": "code",
      "source": [
        "# Comparison (>) is evaluated before logical AND (and)\n",
        "print(10 > 5 and 5 > 3)  # Output: True\n",
        "\n",
        "#  10 > 5 = True,\n",
        "#  5 > 3 = True,\n",
        "#  then True and True = True\n"
      ],
      "metadata": {
        "id": "PoE3F0wZh3iF"
      },
      "execution_count": null,
      "outputs": []
    },
    {
      "cell_type": "code",
      "source": [
        "# Parentheses force precedence within arithmetic and comparison\n",
        "print((10 + 5) > (2 * 6))  # Output: True\n",
        "\n",
        "\n",
        "# (10 + 5) = 15,\n",
        "#  (2 * 6) = 12,\n",
        "#  then 15 > 12 = True\n"
      ],
      "metadata": {
        "id": "AbF3clYQh3fT"
      },
      "execution_count": null,
      "outputs": []
    },
    {
      "cell_type": "markdown",
      "source": [
        "###  💡 Interactive Tasks 7\n",
        "\n",
        "Solve and predict output of these.\n",
        "\n"
      ],
      "metadata": {
        "id": "3Bf5EGI3iP6F"
      }
    },
    {
      "cell_type": "code",
      "source": [
        "# Easy Challenges\n",
        "\n",
        "# 1. What is the output of the following expression?\n",
        "print(10 + 5 * 2)\n",
        "\n",
        "# 2. Rewrite the following so that addition is performed before multiplication. What is the output?\n",
        "print(10 + 5 * 2)\n",
        "\n",
        "# 3. What is the output of the following expression?\n",
        "print(3 * 2 ** 2)\n",
        "\n",
        "# 4. What is the output of this calculation?\n",
        "print(50 / 5 + 10)\n",
        "\n",
        "# 5. What is the output of the following expression?\n",
        "print(-10 + 5)\n",
        "\n",
        "\n",
        "\n"
      ],
      "metadata": {
        "id": "JtoqMwvXiTFE"
      },
      "execution_count": null,
      "outputs": []
    },
    {
      "cell_type": "code",
      "source": [
        "# Medium Challenges\n",
        "\n",
        "# 6. What is the output of the following code?\n",
        "print(15 - 5 > 8)\n",
        "\n",
        "# 7. What will be the output of this logical expression?\n",
        "print(10 > 5 and 8 < 10)\n",
        "\n",
        "# 8. What is the output of the following logical expression?\n",
        "print(True or False and False)\n",
        "\n",
        "# 9. What is the output of this equality check?\n",
        "print(3 * 2 == 6 + 1)\n",
        "\n",
        "# 10. What is the result of the following logical expression with parentheses?\n",
        "print((True or False) and False)\n",
        "\n"
      ],
      "metadata": {
        "id": "eawthClUitpJ"
      },
      "execution_count": null,
      "outputs": []
    },
    {
      "cell_type": "code",
      "source": [
        "# Hard Challenges\n",
        "\n",
        "# 11. What is the output of this logical expression with NOT and AND?\n",
        "print(not False and True)\n",
        "\n",
        "# 12. What will this arithmetic expression print?\n",
        "print((10 - 2) * (3 + 5))\n",
        "\n",
        "# 13. What is the output of this chained logical expression?\n",
        "print(10 > 5 and 3 < 4 or 2 == 2)\n",
        "\n",
        "# 14. What is the result of the following complex logical expression?\n",
        "print(not (10 < 5 or 3 > 2) and (4 == 4))\n",
        "\n",
        "# 15. What does this mixed arithmetic, comparison, and logical expression print?\n",
        "print(10 + 2 * 5 > 20 or 15 / 3 == 5)\n"
      ],
      "metadata": {
        "id": "_mNQ-UZgixGA"
      },
      "execution_count": null,
      "outputs": []
    }
  ]
}