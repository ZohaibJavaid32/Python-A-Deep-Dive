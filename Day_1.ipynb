{
  "nbformat": 4,
  "nbformat_minor": 0,
  "metadata": {
    "colab": {
      "provenance": [],
      "toc_visible": true,
      "authorship_tag": "ABX9TyM1w/SME3qPUxHaUObYhed2",
      "include_colab_link": true
    },
    "kernelspec": {
      "name": "python3",
      "display_name": "Python 3"
    },
    "language_info": {
      "name": "python"
    }
  },
  "cells": [
    {
      "cell_type": "markdown",
      "metadata": {
        "id": "view-in-github",
        "colab_type": "text"
      },
      "source": [
        "<a href=\"https://colab.research.google.com/github/ZohaibJavaid32/Python-A-Deep-Dive/blob/main/Day_1.ipynb\" target=\"_parent\"><img src=\"https://colab.research.google.com/assets/colab-badge.svg\" alt=\"Open In Colab\"/></a>"
      ]
    },
    {
      "cell_type": "markdown",
      "source": [
        "# **Python : A Deep Dive**\n",
        "Python is a versatile, high-level programming language known for its simplicity and readability. Developed by Guido van Rossum in 1991, it supports multiple programming paradigms, including object-oriented, procedural, and functional programming.\n",
        "\n",
        "## Key Features:\n",
        "1. Simple Syntax: Python's clean and easy-to-read syntax makes it beginner-friendly.\n",
        "\n",
        "2. Cross-Platform: It works across multiple operating systems without modification.\n",
        "3. Extensive Libraries: Python offers a wide range of libraries for various tasks, like data analysis and web development.\n",
        "\n",
        "4. Dynamic Typing: Variables do not require explicit type declaration, offering flexibility.\n",
        "\n",
        "5. Interpreted: Python executes code line-by-line, making debugging easier.\n",
        "\n",
        "6. Multi-Paradigm: Supports object-oriented, functional, and procedural programming styles.\n",
        "\n",
        "7. Strong Community: Python has a large, active community and extensive documentation for support.\n",
        "\n",
        "## Why to Learn Python?\n",
        "\n",
        "1. Web Development: Frameworks like Django and Flask are used for building dynamic websites and backend services.\n",
        "\n",
        "2. Data Science: Libraries like Pandas, NumPy, and Matplotlib make it ideal for data analysis and visualization.\n",
        "\n",
        "3. AI and Machine Learning: Python supports deep learning, NLP, and ML with tools like TensorFlow and PyTorch.\n",
        "Automation: Python is great for automating tasks, including web scraping and system scripting.\n",
        "\n",
        "4. Game Development: Python can be used for prototyping and simple 2D game development with libraries like Pygame.\n",
        "\n",
        "5. Cybersecurity: Python is used to develop security tools and scripts for penetration testing and analysis.\n",
        "\n",
        "6. Robotics and IoT: Python powers robots and IoT devices, using frameworks like ROS and MicroPython.\n",
        "\n",
        "7. Software Testing: Libraries like PyTest make Python popular for automating software testing and building prototypes."
      ],
      "metadata": {
        "id": "MQ4kLLOKuF72"
      }
    },
    {
      "cell_type": "markdown",
      "source": [
        "# First Python Program\n",
        "\n",
        "Python uses `print()` function to display output on the screen."
      ],
      "metadata": {
        "id": "Qb2fv5zpxI82"
      }
    },
    {
      "cell_type": "code",
      "source": [
        "print (\"Hello World!This is my first python program.\")"
      ],
      "metadata": {
        "colab": {
          "base_uri": "https://localhost:8080/"
        },
        "id": "ulbEybzFxkCc",
        "outputId": "d4a982d1-5427-4815-ea8a-a3556771a79d"
      },
      "execution_count": null,
      "outputs": [
        {
          "output_type": "stream",
          "name": "stdout",
          "text": [
            "Hello World!This is my first python program.\n"
          ]
        }
      ]
    },
    {
      "cell_type": "markdown",
      "source": [
        "# **Python Character Set**\n",
        "A character set is the foundation of any programming language. Python supports the following:\n",
        "\n",
        "1. Letters: A-Z, a-z\n",
        "2. Digits: 0-9\n",
        "3. Special Symbols: +, -, *, /, %, etc.\n",
        "4. Whitespaces: Space, tab, newline, etc.\n",
        "5. ASCII & Unicode: Python can process all ASCII and Unicode characters, making it versatile for global applications."
      ],
      "metadata": {
        "id": "pqszv82g1Ytx"
      }
    },
    {
      "cell_type": "markdown",
      "source": [
        "# **Comments in Python**\n",
        "In python , (#) is used for **single line comments**. And triple quotes (''' ''') are used for **multi line comments**.\n",
        "\n",
        "## When to Use Comments:\n",
        "1. To explain the purpose of a block of code.\n",
        "2. To make the code more understandable for future developers or yourself.\n",
        "3. To temporarily disable code during debugging."
      ],
      "metadata": {
        "id": "8ztk7aVJ1t_x"
      }
    },
    {
      "cell_type": "code",
      "source": [
        "# This is a single line comment.\n",
        "''' This is a multi line comment.\n",
        "    It is used to add multiple lines in python.'''"
      ],
      "metadata": {
        "colab": {
          "base_uri": "https://localhost:8080/",
          "height": 35
        },
        "id": "-pB8c7ig2Lbr",
        "outputId": "5863b18f-be12-47ef-b6a8-ae168b45cab9"
      },
      "execution_count": null,
      "outputs": [
        {
          "output_type": "execute_result",
          "data": {
            "text/plain": [
              "' This is a multi line comment.\\n    It is used to add multiple lines in python.'"
            ],
            "application/vnd.google.colaboratory.intrinsic+json": {
              "type": "string"
            }
          },
          "metadata": {},
          "execution_count": 4
        }
      ]
    },
    {
      "cell_type": "markdown",
      "source": [
        "# **Indentation in Python:**\n",
        "Indentation in programming refers to the practice of adding spaces or tabs at the beginning of lines of code to visually represent the structure and hierarchy of the program. It is used to indicate which blocks of code belong together, such as those under loops, conditionals, or functions.\n",
        "\n",
        "Error will occur if code is not properly indented. Common error: `IndentationError`"
      ],
      "metadata": {
        "id": "lgaRQ7yz3G-Q"
      }
    },
    {
      "cell_type": "code",
      "source": [
        "x = 10\n",
        "if x < 5:\n",
        "print ('x is less than 5')\n",
        "else:\n",
        "print('x is greater than 5')\n",
        "\n",
        "# Correct Indentation\n",
        "\n",
        "#if x < 5:\n",
        "#  print ('x is less than 5')\n",
        "#else:\n",
        "#  print('x is greater than 5')\n",
        "\n",
        "\n"
      ],
      "metadata": {
        "colab": {
          "base_uri": "https://localhost:8080/",
          "height": 106
        },
        "id": "3qIQjgUD34fM",
        "outputId": "a95b4227-0896-4841-ea38-bb88013a6919"
      },
      "execution_count": null,
      "outputs": [
        {
          "output_type": "error",
          "ename": "IndentationError",
          "evalue": "expected an indented block after 'if' statement on line 2 (<ipython-input-7-05a295513306>, line 3)",
          "traceback": [
            "\u001b[0;36m  File \u001b[0;32m\"<ipython-input-7-05a295513306>\"\u001b[0;36m, line \u001b[0;32m3\u001b[0m\n\u001b[0;31m    print ('x is less than 5')\u001b[0m\n\u001b[0m    ^\u001b[0m\n\u001b[0;31mIndentationError\u001b[0m\u001b[0;31m:\u001b[0m expected an indented block after 'if' statement on line 2\n"
          ]
        }
      ]
    },
    {
      "cell_type": "markdown",
      "source": [
        "# **Variables in Python:**\n",
        "In programming, a variable is a symbolic name that represents a value or data that can change during the execution of a program. It is used to store and manipulate data, such as numbers, strings, or objects. A variable is typically defined by assigning a value to a name, which can then be referenced and updated throughout the program\n",
        "\n",
        "Naming Rules:  \n",
        "\n",
        "1. Variable name must start with a digit or underscore i.e. `(a-z or A-z) or (_)`\n",
        "2. Variable name cannot start with a number.\n",
        "3. Variable names are case sensitive.\n",
        "4. Reserved keywords cannot be used as variable name. i.e `if, else, while, async` etc.\n",
        "5. Special characters cannot be used in variable naming."
      ],
      "metadata": {
        "id": "DIaLKakm5DpM"
      }
    },
    {
      "cell_type": "code",
      "source": [
        "student_id = 123\n",
        "student_name = 'Asim Rasool'\n",
        "student_cgpa = 3.56\n",
        "_address = \"Lahore, Pakistan\"\n",
        "print (student_id)\n",
        "print (student_name)\n",
        "print (student_cgpa)\n",
        "print (_address)\n",
        "\n",
        "# Invalid Names\n",
        "# 1st_student = 123\n",
        "# @address = 'Lahore, Pakistan'"
      ],
      "metadata": {
        "colab": {
          "base_uri": "https://localhost:8080/"
        },
        "id": "pNMoVVl-6joF",
        "outputId": "9a5c8519-d8fd-482f-ce72-6c067caba9bc"
      },
      "execution_count": null,
      "outputs": [
        {
          "output_type": "stream",
          "name": "stdout",
          "text": [
            "123\n",
            "Asim Rasool\n",
            "3.56\n",
            "Lahore, Pakistan\n"
          ]
        }
      ]
    },
    {
      "cell_type": "markdown",
      "source": [
        "# **Data Types in Python:**\n",
        "Python support mutiple data types which are stated below:\n",
        "1. `int`: Whole numbers (12,45,-9,-34)\n",
        "2. `boolean`: `true` or `false`\n",
        "3. `float`: Decimal numbers (0.08, 0.09, 0.002,0.45)\n",
        "4. `None` : Represents absence of value.\n",
        "5. `complex`: Complex numbers (e.g., 2 + 3j, where j is the imaginary part).\n",
        "6. `str`: String (a sequence of characters, e.g., \"hello\", 'world')\n",
        "7. `list`: Ordered, mutable collection of elements (e.g., [1, 2, 3], ['apple', 'banana', 'cherry'])\n",
        "8. `tuple`: Ordered, immutable collection of elements (e.g., (1, 2, 3), ('a', 'b', 'c'))\n",
        "9. `dict`: Dictionary, an unordered collection of key-value pairs (e.g., {'name': 'Alice', 'age': 25})\n",
        "10. `set`: Unordered collection of unique elements (e.g., {1, 2, 3}, {'apple', 'banana'})\n",
        "\n",
        "\n",
        "## Type Checking:\n",
        "`type()` built in function can be used to for type checking in python.\n"
      ],
      "metadata": {
        "id": "q_Geir0y_Mpw"
      }
    },
    {
      "cell_type": "code",
      "source": [
        "name = \"Muhammad Zohaib\"\n",
        "age = 22\n",
        "cgpa = 3.2\n",
        "is_student = False\n",
        "fav_colors = [\"black\", \"blue\", \"green\"]\n",
        "failed_courses = None\n",
        "student_details = {\"name \": \"Muhammad Zohaib\",\n",
        "                   age: 22,\n",
        "                   cgpa: 3.2,\n",
        "                   \"favorite_colors\": [\"black\", \"blue\", \"green\"],\n",
        "                   failed_courses: None}\n",
        "\n",
        "print (type(name))\n",
        "print(type(age))\n",
        "print(type(cgpa))\n",
        "print(type(is_student))\n",
        "print(type(fav_colors))\n",
        "print(type(failed_courses))\n",
        "print(type(student_details))\n"
      ],
      "metadata": {
        "colab": {
          "base_uri": "https://localhost:8080/"
        },
        "id": "KQQMzoyjA_kl",
        "outputId": "b2550c9f-0150-43f2-f15a-639eb013615a"
      },
      "execution_count": null,
      "outputs": [
        {
          "output_type": "stream",
          "name": "stdout",
          "text": [
            "<class 'str'>\n",
            "<class 'int'>\n",
            "<class 'float'>\n",
            "<class 'bool'>\n",
            "<class 'list'>\n",
            "<class 'NoneType'>\n",
            "<class 'dict'>\n"
          ]
        }
      ]
    },
    {
      "cell_type": "markdown",
      "source": [
        "# **Input/Output Operations:**\n",
        "1. `input()`: It is used to take input from user.The `input()` function always returns the input as a `string`, even if the user enters a number. If you want to treat it as another data type, you need to convert it manually.\n",
        "\n",
        "2. `print()`: It is used to print output on the screen.\n",
        "\n",
        "NOTE: No conversion is needed for `str`."
      ],
      "metadata": {
        "id": "ofW93DeoDTx5"
      }
    },
    {
      "cell_type": "code",
      "source": [
        "name = input (\"Please enter your name: \")\n",
        "print (\"Hi, \", name)"
      ],
      "metadata": {
        "colab": {
          "base_uri": "https://localhost:8080/"
        },
        "id": "99sJbxkZEA3V",
        "outputId": "acda2668-f542-423d-a7a4-4b9b2c49e6cd"
      },
      "execution_count": null,
      "outputs": [
        {
          "output_type": "stream",
          "name": "stdout",
          "text": [
            "Please enter your name: Muhammad Zohaib\n",
            "Hi,  Muhammad Zohaib\n"
          ]
        }
      ]
    },
    {
      "cell_type": "code",
      "source": [
        "age = input (\"Please enter your age: \")\n",
        "print(type(age))\n",
        "\n",
        "age = int(input(\"Please enter your age: \"))\n",
        "print (type(age))"
      ],
      "metadata": {
        "colab": {
          "base_uri": "https://localhost:8080/"
        },
        "id": "SsNykM2jETz0",
        "outputId": "18e0365f-ca6d-4a20-87b9-a72c09294b06"
      },
      "execution_count": null,
      "outputs": [
        {
          "output_type": "stream",
          "name": "stdout",
          "text": [
            "Please enter your age: 22\n",
            "<class 'str'>\n",
            "Please enter your age: 22\n",
            "<class 'int'>\n"
          ]
        }
      ]
    },
    {
      "cell_type": "markdown",
      "source": [
        "# **Type Casting:**\n",
        "\n",
        "## Implicit Type Casting (Automatic Casting):\n",
        "\n",
        "Python automatically converts smaller data types to larger data types when necessary, without explicit instruction from the programmer. For example, when an integer is added to a float, Python automatically converts the integer to a float before performing the addition.\n",
        "\n",
        "## Explicit Type Casting (Manual Casting):\n",
        "\n",
        "In explicit type casting, you manually convert a value from one data type to another using Python's built-in functions. Explicit casting ensures data is in the right type for the task at hand.\n",
        "\n",
        "`int()` - Converts a value to an integer.\n",
        "\n",
        "`float()` - Converts a value to a float.\n",
        "\n",
        "`str()` - Converts a value to a string.\n",
        "\n",
        "`list()` - Converts a value to a list.\n",
        "\n",
        "`tuple()` - Converts a value to a tuple.\n",
        "\n",
        "`set()` - Converts a value to a set.\n",
        "\n",
        "`bool()` - Converts a value to a boolean (True or `False`)\n",
        "\n",
        "NOTES:\n",
        "\n",
        "1. When converting non-numeric strings to numbers (e.g., int(\"hello\") or float(\"abc\")), Python will raise a `ValueError` because the string cannot be interpreted as a valid number.\n",
        "\n",
        "2. When using `bool()`, the following values are considered `False, 0, None, [], '', {}, and set()`. All other values are considered `True`."
      ],
      "metadata": {
        "id": "V1SXUYJBHTpL"
      }
    },
    {
      "cell_type": "code",
      "source": [
        "# Implicit Type Casting:\n",
        "first_number = 5\n",
        "second_number = 7.5\n",
        "\n",
        "res = first_number + second_number\n",
        "print(res)"
      ],
      "metadata": {
        "colab": {
          "base_uri": "https://localhost:8080/"
        },
        "id": "NYKKqyB4HpUv",
        "outputId": "cf183214-67e6-411d-8daf-032ee81c1377"
      },
      "execution_count": null,
      "outputs": [
        {
          "output_type": "stream",
          "name": "stdout",
          "text": [
            "12.5\n"
          ]
        }
      ]
    },
    {
      "cell_type": "code",
      "source": [
        "# Explicit Type Casting:\n",
        "\n",
        "# 1. integer to float\n",
        "cgpa = 3\n",
        "cgpa = float(cgpa)\n",
        "print (cgpa , type(cgpa))\n",
        "\n",
        "# 2. float to int\n",
        "age = 22.5\n",
        "age = int(age)\n",
        "print(age , type(age))\n",
        "\n",
        "# 3. float to str\n",
        "cgpa = 3.2\n",
        "cgpa = str(cgpa)\n",
        "print(cgpa , type(cgpa))\n"
      ],
      "metadata": {
        "colab": {
          "base_uri": "https://localhost:8080/"
        },
        "id": "Lvhj3amgJJDF",
        "outputId": "4c482b3a-014c-433f-aa41-c5e6a9c5af6d"
      },
      "execution_count": null,
      "outputs": [
        {
          "output_type": "stream",
          "name": "stdout",
          "text": [
            "3.0 <class 'float'>\n",
            "22 <class 'int'>\n",
            "3.2 <class 'str'>\n"
          ]
        }
      ]
    }
  ]
}